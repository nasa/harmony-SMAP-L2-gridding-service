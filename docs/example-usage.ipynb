{
 "cells": [
  {
   "cell_type": "markdown",
   "id": "968a8e2c-fc09-441f-8db9-ee71b375c2f4",
   "metadata": {},
   "source": [
    "# Harmony SMAP L2 gridding service\n",
    "\n",
    "This notebook describes the basic functionality of the service and how to call from `harmony-py`"
   ]
  },
  {
   "cell_type": "markdown",
   "id": "d5a56fc1-a73f-454d-acb7-3e311b8aafad",
   "metadata": {},
   "source": [
    "### Prerequisites\n",
    "\n",
    "The dependencies for this notebook are listed in the `docs-requirements.txt` file, launch your jupyter notebook from an environment that includes those dependencies.\n",
    "\n",
    "\n",
    "A `.netrc` file must also be located in the test directory of this repository with access to the UAT Earthdata environment.\n",
    "\n",
    "\n",
    "To follow along, download the original input SPL2SMP file into this directory from this url: https://harmony.uat.earthdata.nasa.gov/service-results/harmony-uat-eedtest-data/C1268429309-EEDTEST/SMAP_L2_SM_P_00872_D_20150401T044811_R19240_001.h5\n",
    "\n",
    "\n",
    "\n"
   ]
  },
  {
   "cell_type": "markdown",
   "id": "fb64626b-bf91-4c31-bc1a-816149b17b29",
   "metadata": {},
   "source": [
    "### The Data\n",
    "There are 4 SMAP test collections configured in UAT: \n",
    "\n",
    "| Collection          | Short Name | Name                                                                |\n",
    "|---------------------|------------|---------------------------------------------------------------------|\n",
    "| C1268429712-EEDTEST | SPL2SMP_E  | SMAP Enhanced L2 Radiometer Half-Orbit 9 km EASE-Grid Soil Moisture |\n",
    "| C1268429729-EEDTEST | SPL2SMA    | SMAP L2 Radar Half-Orbit 3 km EASE-Grid Soil Moisture               |\n",
    "| C1268429748-EEDTEST | SPL2SMAP   | SMAP L2 Radar/Radiometer Half-Orbit 9 km EASE-Grid Soil Moisture    |\n",
    "| C1268429309-EEDTEST | SPL2SMP    | SMAP L2 Radiometer Half-Orbit 36 km EASE-Grid Soil Moisture         |\n",
    "\n",
    "Any of these collections can be used with the smap-l2-gridder."
   ]
  },
  {
   "cell_type": "markdown",
   "id": "b8f60593-cd9f-43c0-b606-411f070a528b",
   "metadata": {},
   "source": [
    "### What is L2 Gridded data?\n",
    "\n",
    "Level 2 Gridded Data is data that is stored in 1D arrays along with row and column indices.\n",
    "\n"
   ]
  },
  {
   "cell_type": "markdown",
   "id": "3a7740dd-bed5-4ddc-aefd-4f89b47576e7",
   "metadata": {},
   "source": [
    "| idx             |  0 |  1 |  2 |  3 |  4 |  5 |  6 |  7 | ... |\n",
    "|-----------------|----|----|----|----|----|----|----|----|-----|\n",
    "| data_variable   | 10 | 20 | 25 | 15 | 75 | 90 | 60 | 30 | ... |\n",
    "| EASE_row_idx    |  3 |  3 |  2 |  1 |  0 |  1 |  2 |  3 | ... |\n",
    "| EASE_column_idx |  3 |  2 |  2 |  1 |  1 |  0 |  0 |  0 | ... |\n",
    "\n"
   ]
  },
  {
   "cell_type": "markdown",
   "id": "39c88eb8-a1cf-4e55-96c0-6991b9da4caa",
   "metadata": {},
   "source": [
    "### Input Data Structure\n",
    "\n",
    "Open the input Level 2 Gridded Data file and examine the top level groups"
   ]
  },
  {
   "cell_type": "markdown",
   "id": "89c8bdfb-3fc7-4ad9-95a0-fbc722b0bce4",
   "metadata": {},
   "source": [
    "On a mac you can open the input file in panoply to examine it with the next cell."
   ]
  },
  {
   "cell_type": "code",
   "execution_count": null,
   "id": "e374cfd8-a404-4f7c-81cd-50498ca82cb2",
   "metadata": {},
   "outputs": [],
   "source": [
    "!open -a panoply SMAP_L2_SM_P_00872_D_20150401T044811_R19240_001.h5"
   ]
  },
  {
   "cell_type": "markdown",
   "id": "02ff7203-a83c-422c-b867-a606dc4b9dbb",
   "metadata": {},
   "source": [
    "Open with xarray and examine the groups and some data variables"
   ]
  },
  {
   "cell_type": "code",
   "execution_count": null,
   "id": "eae23a84-3517-4b4d-84dc-6831d4c9276d",
   "metadata": {
    "scrolled": true
   },
   "outputs": [],
   "source": [
    "import xarray as xr\n",
    "\n",
    "in_datatree = xr.open_datatree(\n",
    "    'SMAP_L2_SM_P_00872_D_20150401T044811_R19240_001.h5', decode_times=False\n",
    ")\n",
    "groups = [c for c in in_datatree.children]\n",
    "print(f'Top level Groups: {groups}\\n')\n",
    "\n",
    "data_vars = in_datatree['Soil_Moisture_Retrieval_Data'].data_vars\n",
    "print('First 10 data variables:')\n",
    "list(data_vars)[0:10]"
   ]
  },
  {
   "cell_type": "markdown",
   "id": "d3299f35-8f87-4be0-a5cf-cf44133e145b",
   "metadata": {},
   "source": [
    "##### Examine a single variable\n",
    "\n",
    "All of the data is stored in a single 1-dimensional array "
   ]
  },
  {
   "cell_type": "code",
   "execution_count": null,
   "id": "4e297a63-e559-429b-9af8-30c9838e52e7",
   "metadata": {},
   "outputs": [],
   "source": [
    "in_datatree['Soil_Moisture_Retrieval_Data']['albedo']"
   ]
  },
  {
   "cell_type": "markdown",
   "id": "f609c11a-173c-4a23-aab9-57bb38eab134",
   "metadata": {},
   "source": [
    "### Locating grid values\n",
    "\n",
    "The L2 data is *\"gridded\"* by locating the correct place in the output grid for each value in input array. \n",
    "\n",
    "Data values are entered into the grid, by using the column and row values as indices. \n",
    "\n",
    "Simply: for each index `i` in the input array:\n",
    "\n",
    "```\n",
    "  row = EASE_row_index[i]\n",
    "  column = EASE_column_index[i]\n",
    "  grid[row,column] = data_value[i]\n",
    "```"
   ]
  },
  {
   "cell_type": "code",
   "execution_count": null,
   "id": "74857498-d4e5-4b10-bfd0-36b2a583dc1a",
   "metadata": {},
   "outputs": [],
   "source": [
    "data_variable = [10, 20, 25, 15, 75, 90, 60, 30]  # ...\n",
    "EASE_row_index = [3, 3, 2, 1, 0, 1, 2]  # ...\n",
    "EASE_column_index = [3, 2, 2, 1, 1, 0, 0]  # ..."
   ]
  },
  {
   "cell_type": "code",
   "execution_count": null,
   "id": "00564790-8742-445a-abd9-a5bff7cb1f1d",
   "metadata": {},
   "outputs": [],
   "source": [
    "import numpy as np\n",
    "\n",
    "grid = np.zeros((4, 4))\n",
    "for data, row, column in zip(data_variable, EASE_row_index, EASE_column_index):\n",
    "    print(f'grid[{row}, {column}] = {data}')\n",
    "    grid[row, column] = data"
   ]
  },
  {
   "cell_type": "markdown",
   "id": "56ae4d05-6903-469d-a16b-2e073cc9c16b",
   "metadata": {},
   "source": [
    "#### The resulting grid"
   ]
  },
  {
   "cell_type": "code",
   "execution_count": null,
   "id": "5beaa9a4-e219-4ef5-b25c-796c59db9c5a",
   "metadata": {},
   "outputs": [],
   "source": [
    "print(grid)"
   ]
  },
  {
   "cell_type": "markdown",
   "id": "a4a96a5c-33b6-4ab5-a653-8c55a920fe7a",
   "metadata": {},
   "source": [
    "\n",
    "This is the essentially how Level 2 Gridded data is inflated and what is happening in the service.\n"
   ]
  },
  {
   "cell_type": "markdown",
   "id": "58be0de9-3007-4ba5-9bbc-d0860c2374bc",
   "metadata": {},
   "source": [
    "## Using the service\n",
    "\n",
    "use [harmony-py](https://github.com/nasa/harmony-py) and initialize a UAT Harmony client"
   ]
  },
  {
   "cell_type": "code",
   "execution_count": null,
   "id": "6b0ca429-899a-4ece-9592-120fac5b04e1",
   "metadata": {},
   "outputs": [],
   "source": [
    "from harmony import Client, Collection, Environment, Request\n",
    "\n",
    "harmony_client = Client(env=Environment.UAT)"
   ]
  },
  {
   "cell_type": "markdown",
   "id": "4c8a81d3-03e8-4300-83f7-af099c0aacf5",
   "metadata": {},
   "source": [
    "Create a Harmony Request using a known SPL2SMA granule for testing.\n",
    "\n",
    "The request has:\n",
    "- a collection for SPL2SMA,\n",
    "- a granule_id that crosses a large section of land\n",
    "- a crs of WGS84 and allows harmony to know to invoke this service \n",
    "- a format to say we want netcdf output.\n",
    "\n"
   ]
  },
  {
   "cell_type": "code",
   "execution_count": null,
   "id": "31ec80ec-a8c5-42f7-aaf9-cfa8bfba29d6",
   "metadata": {},
   "outputs": [],
   "source": [
    "test_request = Request(\n",
    "    collection=Collection(id='C1268429309-EEDTEST'),\n",
    "    granule_id='G1268454418-EEDTEST',\n",
    "    crs='EPSG:4326',\n",
    "    format='application/x-netcdf4',\n",
    ")"
   ]
  },
  {
   "cell_type": "markdown",
   "id": "f565e043-6c60-4e2d-87a6-dd7b96b09cc7",
   "metadata": {},
   "source": [
    "Submit the request to harmony and download the results."
   ]
  },
  {
   "cell_type": "code",
   "execution_count": null,
   "id": "3ec88bf4-0996-4c7d-b374-b605c35e3b1d",
   "metadata": {},
   "outputs": [],
   "source": [
    "job_id = harmony_client.submit(test_request)\n",
    "\n",
    "for filename in [\n",
    "    file_future.result()\n",
    "    for file_future in harmony_client.download_all(job_id, overwrite=True)\n",
    "]:\n",
    "    print(f'Downloaded processed file from Harmony: {filename}')"
   ]
  },
  {
   "cell_type": "code",
   "execution_count": null,
   "id": "aa4b6280-8104-4907-a87d-f8bc1065b559",
   "metadata": {},
   "outputs": [],
   "source": [
    "print(filename)"
   ]
  },
  {
   "cell_type": "markdown",
   "id": "748a373e-7b15-4704-a290-04cdaf99f2a4",
   "metadata": {},
   "source": [
    "## Open and examine the gridded data file"
   ]
  },
  {
   "cell_type": "markdown",
   "id": "88384f4e-8e47-426b-ab67-0f811aac3259",
   "metadata": {},
   "source": [
    "again, on a mac with panopoly you can open the file with the next cell\n",
    "\n",
    "The metadata is NetCDF-CF compliant and panoply allows you to plot any of the output gridded data."
   ]
  },
  {
   "cell_type": "code",
   "execution_count": null,
   "id": "567f7738-2b0a-493a-97a6-355432a090c4",
   "metadata": {},
   "outputs": [],
   "source": [
    "!open -a panoply {filename}"
   ]
  },
  {
   "cell_type": "code",
   "execution_count": null,
   "id": "e858cdbd-5233-46b1-8f36-6cdc16d83aec",
   "metadata": {},
   "outputs": [],
   "source": [
    "output_dt = xr.open_datatree(filename, decode_times=False)\n",
    "\n",
    "groups = [c for c in output_dt.children]\n",
    "print(f'Top level Groups: {groups}\\n')\n",
    "\n",
    "data_vars = output_dt['Soil_Moisture_Retrieval_Data'].data_vars\n",
    "print('First 10 data variables:')\n",
    "list(data_vars)[0:10]"
   ]
  },
  {
   "cell_type": "markdown",
   "id": "0673e552-d951-41f5-9749-70e30e222c00",
   "metadata": {},
   "source": [
    "The data has groups and data variables like the input data file.\n",
    "\n",
    "But now the data is 2-dimensional and for the SPL2SMAP data values, they are gridded to the EASE-Grid 2.0 36km Global Equal Area grid"
   ]
  },
  {
   "cell_type": "code",
   "execution_count": null,
   "id": "7b36ebc6-27bc-45cc-8811-5a929e699725",
   "metadata": {},
   "outputs": [],
   "source": [
    "output_dt['Soil_Moisture_Retrieval_Data']['soil_moisture']"
   ]
  },
  {
   "cell_type": "markdown",
   "id": "da14664c-bafa-438d-8f9b-94e28934724b",
   "metadata": {},
   "source": [
    "You can see in the `soil_moisture`'s attributes a `grid_mapping` that points to  `crs` following NetCDF-CF conventions.\n",
    "\n",
    "\n",
    "Looking at the `crs` variable you can see its metadata contains all of the coordinate reference information to describe the projection."
   ]
  },
  {
   "cell_type": "code",
   "execution_count": null,
   "id": "5fea6e5e-0a80-4480-87f4-adfe5280ad4e",
   "metadata": {},
   "outputs": [],
   "source": [
    "print(output_dt['Soil_Moisture_Retrieval_Data']['crs'])"
   ]
  },
  {
   "cell_type": "markdown",
   "id": "9eebde80-a697-4521-911e-5842a000502b",
   "metadata": {},
   "source": [
    "### Plot some raw data"
   ]
  },
  {
   "cell_type": "code",
   "execution_count": null,
   "id": "8f41d2d9-31fd-4933-86f2-4719a89c65d5",
   "metadata": {
    "scrolled": true
   },
   "outputs": [],
   "source": [
    "import matplotlib.pyplot as plt\n",
    "\n",
    "variable = 'soil_moisture'\n",
    "soil_moisture_data = output_dt['Soil_Moisture_Retrieval_Data']['soil_moisture']\n",
    "plt.imshow(soil_moisture_data)"
   ]
  },
  {
   "cell_type": "markdown",
   "id": "cc44e2d3-50d9-48d0-adf9-30f382f7b361",
   "metadata": {},
   "source": [
    "guess column/row boundaries for the valid data from the above"
   ]
  },
  {
   "cell_type": "code",
   "execution_count": null,
   "id": "1f30c258-d10d-4465-a248-9ff413427727",
   "metadata": {},
   "outputs": [],
   "source": [
    "row_min = 0\n",
    "row_max = 300\n",
    "col_min = 400\n",
    "col_max = 700\n",
    "\n",
    "# Set the projected limits from\n",
    "\n",
    "y_coord_min = soil_moisture_data['y-dim'][row_min]\n",
    "y_coord_max = soil_moisture_data['y-dim'][row_max]\n",
    "x_coord_min = soil_moisture_data['x-dim'][col_min]\n",
    "x_coord_max = soil_moisture_data['x-dim'][col_max]"
   ]
  },
  {
   "cell_type": "markdown",
   "id": "0381362a-0bb6-4999-910b-3b3cd62d3313",
   "metadata": {},
   "source": [
    "Plot an image with geographic boundaries for the region that has data."
   ]
  },
  {
   "cell_type": "code",
   "execution_count": null,
   "id": "6c12b4ae-3768-41c9-9be4-9f31d486da31",
   "metadata": {},
   "outputs": [],
   "source": [
    "import cartopy.crs as ccrs\n",
    "\n",
    "fig, ax = plt.subplots(subplot_kw={'projection': ccrs.epsg(6933)})\n",
    "ax.set_extent([x_coord_min, x_coord_max, y_coord_min, y_coord_max], crs=ccrs.epsg(6933))\n",
    "\n",
    "# Plot data\n",
    "soil_moisture_data.plot(ax=ax, transform=ccrs.epsg(6933))\n",
    "ax.set_title(f'sample plot of {variable}', pad=20, fontsize=14)\n",
    "\n",
    "# Add map features\n",
    "ax.coastlines()\n",
    "ax.gridlines()\n",
    "\n",
    "plt.show()"
   ]
  }
 ],
 "metadata": {
  "kernelspec": {
   "display_name": "Python 3 (ipykernel)",
   "language": "python",
   "name": "python3"
  },
  "language_info": {
   "codemirror_mode": {
    "name": "ipython",
    "version": 3
   },
   "file_extension": ".py",
   "mimetype": "text/x-python",
   "name": "python",
   "nbconvert_exporter": "python",
   "pygments_lexer": "ipython3",
   "version": "3.12.6"
  }
 },
 "nbformat": 4,
 "nbformat_minor": 5
}
